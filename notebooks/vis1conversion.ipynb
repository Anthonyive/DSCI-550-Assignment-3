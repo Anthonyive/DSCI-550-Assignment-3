{
 "cells": [
  {
   "cell_type": "code",
   "execution_count": 2,
   "id": "deadly-china",
   "metadata": {},
   "outputs": [],
   "source": [
    "import os\n",
    "import sys\n",
    "import json\n",
    "import nltk\n",
    "from tqdm import tqdm"
   ]
  },
  {
   "cell_type": "code",
   "execution_count": 3,
   "id": "official-board",
   "metadata": {},
   "outputs": [
    {
     "name": "stderr",
     "output_type": "stream",
     "text": [
      "[nltk_data] Downloading package stopwords to\n",
      "[nltk_data]     /Users/jessicademacbook/nltk_data...\n",
      "[nltk_data]   Package stopwords is already up-to-date!\n"
     ]
    }
   ],
   "source": [
    "from nltk.corpus import stopwords\n",
    "nltk.download('stopwords')\n",
    "from nltk.tokenize import word_tokenize"
   ]
  },
  {
   "cell_type": "code",
   "execution_count": 23,
   "id": "interior-istanbul",
   "metadata": {},
   "outputs": [],
   "source": [
    "path='separated by email/'\n",
    "text=[]\n",
    "for file in os.listdir(path):\n",
    "    if file.endswith('.json'):\n",
    "        content=json.load(open(f'{path}/{file}'))\n",
    "        try:\n",
    "            text.append(content[\"X-TIKA:content\"].lower())\n",
    "        except KeyError:\n",
    "            pass     "
   ]
  },
  {
   "cell_type": "code",
   "execution_count": 24,
   "id": "better-breakfast",
   "metadata": {},
   "outputs": [
    {
     "name": "stderr",
     "output_type": "stream",
     "text": [
      "100%|██████████| 3992/3992 [01:07<00:00, 59.48it/s] \n"
     ]
    }
   ],
   "source": [
    "tokens=[]\n",
    "for email in tqdm(text):\n",
    "    tokens=tokens+(word_tokenize(email))\n",
    "    \n",
    "\n",
    "    "
   ]
  },
  {
   "cell_type": "code",
   "execution_count": 26,
   "id": "sharp-bargain",
   "metadata": {},
   "outputs": [
    {
     "name": "stderr",
     "output_type": "stream",
     "text": [
      "100%|██████████| 2058860/2058860 [00:03<00:00, 579971.67it/s]\n"
     ]
    }
   ],
   "source": [
    "sr=stopwords.words('english')\n",
    "sr.append('I')\n",
    "sr.append('The')\n",
    "lower=[]\n",
    "for i in sr:\n",
    "    lower.append(i.lower())\n",
    "freq={}\n",
    "for token in tqdm(tokens):\n",
    "    if token not in sr:\n",
    "        if token in freq:\n",
    "            freq[token]+=1\n",
    "        else:\n",
    "            freq[token]=1\n"
   ]
  },
  {
   "cell_type": "code",
   "execution_count": 35,
   "id": "worst-supply",
   "metadata": {},
   "outputs": [],
   "source": [
    "from operator import itemgetter\n",
    "poplis=['.',',','@',')','(','%',':','...','--',\"'\",';','>','?','-','&']\n",
    "for punc in poplis:\n",
    "    try:\n",
    "        freq.pop(punc)\n",
    "    except: pass\n",
    "N = 150\n",
    "res = dict(sorted(freq.items(), key = itemgetter(1), reverse = True)[:N])\n"
   ]
  },
  {
   "cell_type": "code",
   "execution_count": 38,
   "id": "special-bracket",
   "metadata": {},
   "outputs": [
    {
     "data": {
      "text/plain": [
       "[{'text': 'money', 'value': 11826},\n",
       " {'text': 'bank', 'value': 9388},\n",
       " {'text': 'account', 'value': 9112},\n",
       " {'text': 'us', 'value': 8016},\n",
       " {'text': 'transaction', 'value': 5813},\n",
       " {'text': 'business', 'value': 5691},\n",
       " {'text': 'fund', 'value': 5181},\n",
       " {'text': 'country', 'value': 5137},\n",
       " {'text': '$', 'value': 4735},\n",
       " {'text': 'please', 'value': 4609},\n",
       " {'text': 'transfer', 'value': 4466},\n",
       " {'text': 'million', 'value': 4388},\n",
       " {'text': 'contact', 'value': 4298},\n",
       " {'text': 'next', 'value': 4225},\n",
       " {'text': 'company', 'value': 4112},\n",
       " {'text': 'kin', 'value': 3883},\n",
       " {'text': 'foreign', 'value': 3792},\n",
       " {'text': 'dollars', 'value': 3700},\n",
       " {'text': 'email', 'value': 3680},\n",
       " {'text': 'funds', 'value': 3665}]"
      ]
     },
     "execution_count": 38,
     "metadata": {},
     "output_type": "execute_result"
    }
   ],
   "source": [
    "lis=[]\n",
    "for k,v in res.items():\n",
    "    dic={}\n",
    "    dic['text']=k\n",
    "    dic['value']=v\n",
    "    lis.append(dic)\n",
    "lis[:20]"
   ]
  },
  {
   "cell_type": "code",
   "execution_count": 41,
   "id": "ideal-hostel",
   "metadata": {},
   "outputs": [],
   "source": [
    "f=open('email_count.json','w')\n",
    "json.dump(lis,f)"
   ]
  },
  {
   "cell_type": "markdown",
   "id": "electrical-particle",
   "metadata": {},
   "source": [
    "Generated Email Text Word Cloud\n",
    "\n",
    "http://localhost:8888/tree/DSCI-550-Assignment-2/data/additional-features-v2/new/4_GPT-2_Generated_Text/Credential_phishing"
   ]
  },
  {
   "cell_type": "code",
   "execution_count": 49,
   "id": "north-internship",
   "metadata": {},
   "outputs": [],
   "source": [
    "PATH = '/Users/jessicademacbook/DSCI-550-Assignment-2/data/additional-features-v2/new/4_GPT-2_Generated_Text/'\n",
    "folders = [f for f in os.listdir(PATH) if not f.startswith('.')]\n",
    "lis=[]\n",
    "for folder in folders:   \n",
    "    for i in os.listdir(f'{PATH}{folder}'):  \n",
    "        f=open(f'{PATH}{folder}/{i}','r')\n",
    "        text=f.read()\n",
    "        lis.append(text.lower())"
   ]
  },
  {
   "cell_type": "code",
   "execution_count": 50,
   "id": "european-soldier",
   "metadata": {},
   "outputs": [
    {
     "name": "stderr",
     "output_type": "stream",
     "text": [
      "100%|██████████| 800/800 [00:06<00:00, 123.03it/s]\n",
      "100%|██████████| 648163/648163 [00:01<00:00, 598325.42it/s]\n"
     ]
    }
   ],
   "source": [
    "tokens=[]\n",
    "for email in tqdm(lis):\n",
    "    tokens=tokens+(word_tokenize(email))\n",
    "fre={}\n",
    "for token in tqdm(tokens):\n",
    "    if token not in lower:\n",
    "        if token in fre:\n",
    "            fre[token]+=1\n",
    "        else:\n",
    "            fre[token]=1\n",
    "\n",
    "for punc in poplis:\n",
    "    try:\n",
    "        fre.pop(punc)\n",
    "    except: pass\n",
    "N = 150\n",
    "res = dict(sorted(fre.items(), key = itemgetter(1), reverse = True)[:N])\n"
   ]
  },
  {
   "cell_type": "code",
   "execution_count": 53,
   "id": "shared-beauty",
   "metadata": {},
   "outputs": [],
   "source": [
    "lis=[]\n",
    "for k,v in res.items():\n",
    "    dic={}\n",
    "    dic['text']=k\n",
    "    dic['value']=v\n",
    "    lis.append(dic)\n",
    "f=open('machine_email_count.json','w')\n",
    "json.dump(lis,f)"
   ]
  },
  {
   "cell_type": "code",
   "execution_count": null,
   "id": "genetic-affairs",
   "metadata": {},
   "outputs": [],
   "source": []
  }
 ],
 "metadata": {
  "kernelspec": {
   "display_name": "Python 3",
   "language": "python",
   "name": "python3"
  },
  "language_info": {
   "codemirror_mode": {
    "name": "ipython",
    "version": 3
   },
   "file_extension": ".py",
   "mimetype": "text/x-python",
   "name": "python",
   "nbconvert_exporter": "python",
   "pygments_lexer": "ipython3",
   "version": "3.8.5"
  }
 },
 "nbformat": 4,
 "nbformat_minor": 5
}

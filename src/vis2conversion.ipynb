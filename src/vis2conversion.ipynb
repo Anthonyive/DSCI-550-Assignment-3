{
 "cells": [
  {
   "cell_type": "markdown",
   "metadata": {},
   "source": [
    "## This script is for our second visulization\n"
   ]
  },
  {
   "cell_type": "code",
   "execution_count": 1,
   "metadata": {},
   "outputs": [],
   "source": [
    "import pandas as pd\n",
    "import json"
   ]
  },
  {
   "cell_type": "code",
   "execution_count": 7,
   "metadata": {},
   "outputs": [],
   "source": [
    "with open('../data/json-converted/assignment-1/1-tsv-to-json.json') as f:\n",
    "    j = json.load(f)\n",
    "df = pd.DataFrame(j['Email'])"
   ]
  },
  {
   "cell_type": "markdown",
   "metadata": {},
   "source": [
    "## We are going to see the popularity of each attack type"
   ]
  },
  {
   "cell_type": "code",
   "execution_count": 12,
   "metadata": {},
   "outputs": [],
   "source": [
    "df2 = df[['reconnaissance','social_engineering','malware','credential_phishing']]"
   ]
  },
  {
   "cell_type": "markdown",
   "metadata": {},
   "source": [
    "## We need the format of \n",
    "#### index   genre\n",
    "####  1          a,b,c\n",
    "####  2           b,d"
   ]
  },
  {
   "cell_type": "code",
   "execution_count": 51,
   "metadata": {},
   "outputs": [],
   "source": [
    "list = []"
   ]
  },
  {
   "cell_type": "code",
   "execution_count": 53,
   "metadata": {},
   "outputs": [],
   "source": [
    "for index, rows in df2.iterrows():\n",
    "    temp = []\n",
    "    if float(rows['reconnaissance']) == 1.0:\n",
    "        temp.append('RE')\n",
    "    if float(rows['social_engineering']) == 1.0:\n",
    "        temp.append('SE')\n",
    "    if float(rows['malware']) == 1.0:\n",
    "        temp.append('MA')\n",
    "    if float(rows['credential_phishing']) == 1.0:\n",
    "        temp.append('CP')\n",
    "#     Get the keywords we want\n",
    "\n",
    "    if len(temp) == 1:\n",
    "        text = temp[0]\n",
    "        list.append(text)\n",
    "    elif len(temp) > 1:\n",
    "#     We are eliminating the rows with 4 '0's. Which means there are no attack types categorized for that row.\n",
    "        text = ''\n",
    "        for i in temp:\n",
    "            text = text + ',' + i\n",
    "        text = text.lstrip(',')\n",
    "        list.append(text)"
   ]
  },
  {
   "cell_type": "code",
   "execution_count": 54,
   "metadata": {},
   "outputs": [],
   "source": [
    "df_new = pd.DataFrame(list,columns=['genre'])"
   ]
  },
  {
   "cell_type": "code",
   "execution_count": null,
   "metadata": {},
   "outputs": [],
   "source": []
  },
  {
   "cell_type": "code",
   "execution_count": 59,
   "metadata": {},
   "outputs": [],
   "source": [
    "df_new.to_csv(\"../data/visualizations/vis2/vis2data.csv\")\n"
   ]
  },
  {
   "cell_type": "code",
   "execution_count": null,
   "metadata": {},
   "outputs": [],
   "source": []
  },
  {
   "cell_type": "markdown",
   "metadata": {},
   "source": [
    "#### d3 observable url"
   ]
  },
  {
   "cell_type": "markdown",
   "metadata": {},
   "source": [
    "##### https://observablehq.com/@drizzle98/attack-type-venn"
   ]
  },
  {
   "cell_type": "code",
   "execution_count": null,
   "metadata": {},
   "outputs": [],
   "source": []
  }
 ],
 "metadata": {
  "kernelspec": {
   "display_name": "Python 3",
   "language": "python",
   "name": "python3"
  },
  "language_info": {
   "codemirror_mode": {
    "name": "ipython",
    "version": 3
   },
   "file_extension": ".py",
   "mimetype": "text/x-python",
   "name": "python",
   "nbconvert_exporter": "python",
   "pygments_lexer": "ipython3",
   "version": "3.8.3"
  }
 },
 "nbformat": 4,
 "nbformat_minor": 4
}

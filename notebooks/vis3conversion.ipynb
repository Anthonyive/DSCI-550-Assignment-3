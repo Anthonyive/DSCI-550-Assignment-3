{
 "cells": [
  {
   "cell_type": "code",
   "execution_count": 16,
   "id": "completed-divorce",
   "metadata": {},
   "outputs": [],
   "source": [
    "import requests\n",
    "import json\n",
    "import pandas as pd\n",
    "import csv\n",
    "import re"
   ]
  },
  {
   "cell_type": "code",
   "execution_count": 17,
   "id": "boxed-seating",
   "metadata": {},
   "outputs": [],
   "source": [
    "data_url = \"https://raw.githubusercontent.com/Anthonyive/DSCI-550-Assignment-3/main/data/json-converted/assignment-1/1-tsv-to-json.json?token=AMMODLKXXLG6TA4RAHQNNE3AQ2MKW\"\n",
    "blah = requests.get(data_url).json()"
   ]
  },
  {
   "cell_type": "code",
   "execution_count": 18,
   "id": "distinguished-module",
   "metadata": {},
   "outputs": [],
   "source": [
    "raw = []\n",
    "for v in blah.values():\n",
    "    raw.append(v)\n",
    "raw = raw[0]"
   ]
  },
  {
   "cell_type": "code",
   "execution_count": 19,
   "id": "encouraging-vietnam",
   "metadata": {},
   "outputs": [],
   "source": [
    "a = ['date', 'stock_open', 'stock_close']\n",
    "output = []\n",
    "for d in raw:\n",
    "    date = d['date']\n",
    "    if date != 'unknown':\n",
    "        d['date'] = f'20{date[6:8]}-{date[0:2]}-{date[3:5]}'\n",
    "        output.append({x: d[x] for x in a})"
   ]
  },
  {
   "cell_type": "code",
   "execution_count": 20,
   "id": "electoral-newfoundland",
   "metadata": {},
   "outputs": [],
   "source": [
    "df = pd.DataFrame(output)\n",
    "email_count = df.pivot_table(index=['date'], aggfunc='size')\n",
    "df1 = pd.DataFrame(email_count)"
   ]
  },
  {
   "cell_type": "code",
   "execution_count": 21,
   "id": "entertaining-disclaimer",
   "metadata": {},
   "outputs": [],
   "source": [
    "df = df[df.stock_open != '']\n",
    "df = df.drop_duplicates(ignore_index=True)"
   ]
  },
  {
   "cell_type": "code",
   "execution_count": 22,
   "id": "north-happening",
   "metadata": {},
   "outputs": [],
   "source": [
    "df = df.sort_values(by=['date'], ignore_index=True)\n",
    "df = pd.merge(df, df1, on='date')\n",
    "df = df.rename(columns={0:'email count'})\n",
    "df['email count'] = 100 * df['email count']"
   ]
  },
  {
   "cell_type": "code",
   "execution_count": 23,
   "id": "macro-warrant",
   "metadata": {},
   "outputs": [],
   "source": [
    "df = df.T\n",
    "df.columns = df.iloc[0]\n",
    "df = df[1:]"
   ]
  },
  {
   "cell_type": "code",
   "execution_count": 24,
   "id": "awful-principle",
   "metadata": {},
   "outputs": [],
   "source": [
    "with open('vis3data.csv', 'w') as f1:\n",
    "    df.to_csv(f1)"
   ]
  },
  {
   "cell_type": "code",
   "execution_count": null,
   "id": "suitable-military",
   "metadata": {},
   "outputs": [],
   "source": []
  }
 ],
 "metadata": {
  "kernelspec": {
   "display_name": "Python 3",
   "language": "python",
   "name": "python3"
  },
  "language_info": {
   "codemirror_mode": {
    "name": "ipython",
    "version": 3
   },
   "file_extension": ".py",
   "mimetype": "text/x-python",
   "name": "python",
   "nbconvert_exporter": "python",
   "pygments_lexer": "ipython3",
   "version": "3.9.2"
  }
 },
 "nbformat": 4,
 "nbformat_minor": 5
}

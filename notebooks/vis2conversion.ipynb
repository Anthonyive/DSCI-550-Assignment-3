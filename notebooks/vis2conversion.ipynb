{
 "cells": [
  {
   "cell_type": "markdown",
   "metadata": {},
   "source": [
    "## This script is for our second visulization\n"
   ]
  },
  {
   "cell_type": "code",
   "execution_count": 1,
   "metadata": {},
   "outputs": [],
   "source": [
    "import pandas as pd\n",
    "import json"
   ]
  },
  {
   "cell_type": "code",
   "execution_count": 2,
   "metadata": {},
   "outputs": [],
   "source": [
    "with open('../data/json-converted/assignment-1/1-tsv-to-json.json') as f:\n",
    "    j = json.load(f)\n",
    "df = pd.DataFrame(j['Email'])"
   ]
  },
  {
   "cell_type": "markdown",
   "metadata": {},
   "source": [
    "## We are going to see the popularity of each attack type"
   ]
  },
  {
   "cell_type": "code",
   "execution_count": 3,
   "metadata": {},
   "outputs": [],
   "source": [
    "df2 = df[['reconnaissance','social_engineering','malware','credential_phishing']]"
   ]
  },
  {
   "cell_type": "markdown",
   "metadata": {},
   "source": [
    "## We need the format of \n",
    "#### index   genre\n",
    "####  1          a,b,c\n",
    "####  2           b,d"
   ]
  },
  {
   "cell_type": "code",
   "execution_count": 4,
   "metadata": {},
   "outputs": [],
   "source": [
    "list = []"
   ]
  },
  {
   "cell_type": "code",
   "execution_count": 5,
   "metadata": {},
   "outputs": [],
   "source": [
    "for index, rows in df2.iterrows():\n",
    "    temp = []\n",
    "    if float(rows['reconnaissance']) == 1.0:\n",
    "        temp.append('RE')\n",
    "    if float(rows['social_engineering']) == 1.0:\n",
    "        temp.append('SE')\n",
    "    if float(rows['malware']) == 1.0:\n",
    "        temp.append('MA')\n",
    "    if float(rows['credential_phishing']) == 1.0:\n",
    "        temp.append('CP')\n",
    "#     Get the keywords we want\n",
    "\n",
    "    if len(temp) == 1:\n",
    "        text = temp[0]\n",
    "        list.append(text)\n",
    "    elif len(temp) > 1:\n",
    "#     We are eliminating the rows with 4 '0's. Which means there are no attack types categorized for that row.\n",
    "        text = ''\n",
    "        for i in temp:\n",
    "            text = text + ',' + i\n",
    "        text = text.lstrip(',')\n",
    "        list.append(text)"
   ]
  },
  {
   "cell_type": "code",
   "execution_count": 6,
   "metadata": {},
   "outputs": [],
   "source": [
    "df_new = pd.DataFrame(list,columns=['genre'])"
   ]
  },
  {
   "cell_type": "code",
   "execution_count": null,
   "metadata": {},
   "outputs": [],
   "source": []
  },
  {
   "cell_type": "code",
   "execution_count": 59,
   "metadata": {},
   "outputs": [],
   "source": [
    "df_new.to_csv(\"../data/visualizations/vis2/vis2data.csv\")\n"
   ]
  },
  {
   "cell_type": "code",
   "execution_count": null,
   "metadata": {},
   "outputs": [],
   "source": []
  },
  {
   "cell_type": "markdown",
   "metadata": {},
   "source": [
    "#### d3 observable url"
   ]
  },
  {
   "cell_type": "markdown",
   "metadata": {},
   "source": [
    "##### https://observablehq.com/@drizzle98/attack-type-venn"
   ]
  },
  {
   "cell_type": "code",
   "execution_count": 7,
   "metadata": {},
   "outputs": [
    {
     "data": {
      "text/html": [
       "<div>\n",
       "<style scoped>\n",
       "    .dataframe tbody tr th:only-of-type {\n",
       "        vertical-align: middle;\n",
       "    }\n",
       "\n",
       "    .dataframe tbody tr th {\n",
       "        vertical-align: top;\n",
       "    }\n",
       "\n",
       "    .dataframe thead th {\n",
       "        text-align: right;\n",
       "    }\n",
       "</style>\n",
       "<table border=\"1\" class=\"dataframe\">\n",
       "  <thead>\n",
       "    <tr style=\"text-align: right;\">\n",
       "      <th></th>\n",
       "      <th>genre</th>\n",
       "    </tr>\n",
       "  </thead>\n",
       "  <tbody>\n",
       "    <tr>\n",
       "      <th>0</th>\n",
       "      <td>SE,CP</td>\n",
       "    </tr>\n",
       "    <tr>\n",
       "      <th>1</th>\n",
       "      <td>SE,CP</td>\n",
       "    </tr>\n",
       "    <tr>\n",
       "      <th>2</th>\n",
       "      <td>RE,SE,CP</td>\n",
       "    </tr>\n",
       "    <tr>\n",
       "      <th>3</th>\n",
       "      <td>SE,CP</td>\n",
       "    </tr>\n",
       "    <tr>\n",
       "      <th>4</th>\n",
       "      <td>RE,SE,CP</td>\n",
       "    </tr>\n",
       "    <tr>\n",
       "      <th>...</th>\n",
       "      <td>...</td>\n",
       "    </tr>\n",
       "    <tr>\n",
       "      <th>3744</th>\n",
       "      <td>MA</td>\n",
       "    </tr>\n",
       "    <tr>\n",
       "      <th>3745</th>\n",
       "      <td>MA</td>\n",
       "    </tr>\n",
       "    <tr>\n",
       "      <th>3746</th>\n",
       "      <td>MA</td>\n",
       "    </tr>\n",
       "    <tr>\n",
       "      <th>3747</th>\n",
       "      <td>MA</td>\n",
       "    </tr>\n",
       "    <tr>\n",
       "      <th>3748</th>\n",
       "      <td>MA</td>\n",
       "    </tr>\n",
       "  </tbody>\n",
       "</table>\n",
       "<p>3749 rows × 1 columns</p>\n",
       "</div>"
      ],
      "text/plain": [
       "         genre\n",
       "0        SE,CP\n",
       "1        SE,CP\n",
       "2     RE,SE,CP\n",
       "3        SE,CP\n",
       "4     RE,SE,CP\n",
       "...        ...\n",
       "3744        MA\n",
       "3745        MA\n",
       "3746        MA\n",
       "3747        MA\n",
       "3748        MA\n",
       "\n",
       "[3749 rows x 1 columns]"
      ]
     },
     "execution_count": 7,
     "metadata": {},
     "output_type": "execute_result"
    }
   ],
   "source": [
    "df_new"
   ]
  },
  {
   "cell_type": "markdown",
   "metadata": {},
   "source": [
    "### Data processing for task5\n"
   ]
  },
  {
   "cell_type": "code",
   "execution_count": 41,
   "metadata": {},
   "outputs": [],
   "source": [
    "\n",
    "index = 0\n",
    "json_string = ''\n",
    "for m,n in df_new.iterrows():\n",
    "    new = {}\n",
    "    new2 = {}\n",
    "    temp = {}\n",
    "    temp['_index'] = 'attack_type'\n",
    "    temp['_id'] = index\n",
    "    new['index'] = temp\n",
    "    \n",
    "    with open(\"../../DSCI-550-Assignment-3/data/visualizations/vis2data.json\", \"a\") as write_file:\n",
    "        json.dump(new, write_file)\n",
    "        write_file.write('\\n')\n",
    "    json_string = json_string + c\n",
    "    a = n['genre']\n",
    "    new2['genre'] = a\n",
    "    index = index + 1\n",
    "    \n",
    "    with open(\"../../DSCI-550-Assignment-3/data/visualizations/vis2data.json\", \"a\") as write_file:\n",
    "        json.dump(new2, write_file)\n",
    "        write_file.write('\\n')\n",
    "    "
   ]
  },
  {
   "cell_type": "code",
   "execution_count": null,
   "metadata": {},
   "outputs": [],
   "source": []
  },
  {
   "cell_type": "code",
   "execution_count": null,
   "metadata": {},
   "outputs": [],
   "source": []
  },
  {
   "cell_type": "code",
   "execution_count": null,
   "metadata": {},
   "outputs": [],
   "source": []
  }
 ],
 "metadata": {
  "kernelspec": {
   "display_name": "Python 3",
   "language": "python",
   "name": "python3"
  },
  "language_info": {
   "codemirror_mode": {
    "name": "ipython",
    "version": 3
   },
   "file_extension": ".py",
   "mimetype": "text/x-python",
   "name": "python",
   "nbconvert_exporter": "python",
   "pygments_lexer": "ipython3",
   "version": "3.8.5"
  }
 },
 "nbformat": 4,
 "nbformat_minor": 4
}

{
 "cells": [
  {
   "cell_type": "code",
   "execution_count": 1,
   "id": "completed-divorce",
   "metadata": {},
   "outputs": [],
   "source": [
    "import requests\n",
    "import json\n",
    "import pandas as pd\n",
    "import csv\n",
    "import re"
   ]
  },
  {
   "cell_type": "code",
   "execution_count": 2,
   "id": "boxed-seating",
   "metadata": {},
   "outputs": [],
   "source": [
    "data_url = \"https://raw.githubusercontent.com/Anthonyive/DSCI-550-Assignment-3/main/data/json-converted/assignment-1/1-tsv-to-json.json?token=AMMODLKXXLG6TA4RAHQNNE3AQ2MKW\"\n",
    "blah = requests.get(data_url).json()"
   ]
  },
  {
   "cell_type": "code",
   "execution_count": 3,
   "id": "distinguished-module",
   "metadata": {},
   "outputs": [],
   "source": [
    "raw = []\n",
    "for v in blah.values():\n",
    "    raw.append(v)\n",
    "raw = raw[0]"
   ]
  },
  {
   "cell_type": "code",
   "execution_count": 4,
   "id": "encouraging-vietnam",
   "metadata": {},
   "outputs": [],
   "source": [
    "a = ['date', 'stock_open', 'stock_close']\n",
    "output = []\n",
    "for d in raw:\n",
    "    date = d['date']\n",
    "    if date != 'unknown':\n",
    "        d['date'] = f'20{date[6:8]}-{date[0:2]}-{date[3:5]}'\n",
    "        output.append({x: d[x] for x in a})"
   ]
  },
  {
   "cell_type": "code",
   "execution_count": 5,
   "id": "electoral-newfoundland",
   "metadata": {},
   "outputs": [],
   "source": [
    "df = pd.DataFrame(output)"
   ]
  },
  {
   "cell_type": "code",
   "execution_count": 6,
   "id": "entertaining-disclaimer",
   "metadata": {},
   "outputs": [],
   "source": [
    "df = df[df.stock_open != '']\n",
    "df = df.drop_duplicates(ignore_index=True)"
   ]
  },
  {
   "cell_type": "code",
   "execution_count": 7,
   "id": "north-happening",
   "metadata": {},
   "outputs": [],
   "source": [
    "df = df.sort_values(by=['date'], ignore_index=True)\n",
    "df = df.rename(columns={'date':'name'})"
   ]
  },
  {
   "cell_type": "code",
   "execution_count": 8,
   "id": "macro-warrant",
   "metadata": {},
   "outputs": [],
   "source": [
    "df = df.T\n",
    "df.columns = df.iloc[0]\n",
    "df = df[1:]"
   ]
  },
  {
   "cell_type": "code",
   "execution_count": 9,
   "id": "awful-principle",
   "metadata": {},
   "outputs": [],
   "source": [
    "with open('vis3data.tsv', 'w') as f1:\n",
    "    df.to_csv(f1)"
   ]
  },
  {
   "cell_type": "code",
   "execution_count": null,
   "id": "enhanced-taxation",
   "metadata": {},
   "outputs": [],
   "source": []
  }
 ],
 "metadata": {
  "kernelspec": {
   "display_name": "Python 3",
   "language": "python",
   "name": "python3"
  },
  "language_info": {
   "codemirror_mode": {
    "name": "ipython",
    "version": 3
   },
   "file_extension": ".py",
   "mimetype": "text/x-python",
   "name": "python",
   "nbconvert_exporter": "python",
   "pygments_lexer": "ipython3",
   "version": "3.9.2"
  }
 },
 "nbformat": 4,
 "nbformat_minor": 5
}
